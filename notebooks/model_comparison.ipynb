{
 "cells": [
  {
   "cell_type": "code",
   "execution_count": 1,
   "metadata": {},
   "outputs": [
    {
     "name": "stdout",
     "output_type": "stream",
     "text": [
      "Requirement already satisfied: pandas in c:\\users\\2003a\\aaron'sfolder\\college\\cs\\realestate\\real-estate-avm\\venv\\lib\\site-packages (2.2.2)\n",
      "Requirement already satisfied: numpy>=1.26.0 in c:\\users\\2003a\\aaron'sfolder\\college\\cs\\realestate\\real-estate-avm\\venv\\lib\\site-packages (from pandas) (2.0.1)\n",
      "Requirement already satisfied: python-dateutil>=2.8.2 in c:\\users\\2003a\\aaron'sfolder\\college\\cs\\realestate\\real-estate-avm\\venv\\lib\\site-packages (from pandas) (2.9.0.post0)\n",
      "Requirement already satisfied: pytz>=2020.1 in c:\\users\\2003a\\aaron'sfolder\\college\\cs\\realestate\\real-estate-avm\\venv\\lib\\site-packages (from pandas) (2024.1)\n",
      "Requirement already satisfied: tzdata>=2022.7 in c:\\users\\2003a\\aaron'sfolder\\college\\cs\\realestate\\real-estate-avm\\venv\\lib\\site-packages (from pandas) (2024.1)\n",
      "Requirement already satisfied: six>=1.5 in c:\\users\\2003a\\aaron'sfolder\\college\\cs\\realestate\\real-estate-avm\\venv\\lib\\site-packages (from python-dateutil>=2.8.2->pandas) (1.16.0)\n",
      "Note: you may need to restart the kernel to use updated packages.\n"
     ]
    },
    {
     "name": "stderr",
     "output_type": "stream",
     "text": [
      "\n",
      "[notice] A new release of pip is available: 24.0 -> 24.3.1\n",
      "[notice] To update, run: python.exe -m pip install --upgrade pip\n"
     ]
    }
   ],
   "source": [
    "%pip install pandas\n",
    "import pandas as pd"
   ]
  },
  {
   "cell_type": "code",
   "execution_count": 2,
   "metadata": {},
   "outputs": [
    {
     "name": "stderr",
     "output_type": "stream",
     "text": [
      "C:\\Users\\2003a\\AppData\\Local\\Temp\\ipykernel_12348\\1899678723.py:1: DtypeWarning: Columns (20) have mixed types. Specify dtype option on import or set low_memory=False.\n",
      "  prop_data = pd.read_csv('../data/all_sold_property_data.csv')\n"
     ]
    }
   ],
   "source": [
    "prop_data = pd.read_csv('../data/all_sold_property_data.csv')"
   ]
  },
  {
   "cell_type": "code",
   "execution_count": 3,
   "metadata": {},
   "outputs": [
    {
     "data": {
      "text/plain": [
       "56560"
      ]
     },
     "execution_count": 3,
     "metadata": {},
     "output_type": "execute_result"
    }
   ],
   "source": [
    "stripped_data = prop_data[['bathrooms', 'bedrooms', 'homeType', 'livingArea', 'lotSize', 'taxAssessedValue', 'yearBuilt', 'price']]\n",
    "#stripped_data.set_index('address')\n",
    "stripped_data = stripped_data.dropna()\n",
    "stripped_data.size"
   ]
  },
  {
   "cell_type": "code",
   "execution_count": null,
   "metadata": {},
   "outputs": [],
   "source": [
    "%pip install -U scikit-learn\n",
    "%pip install xgboost\n"
   ]
  },
  {
   "cell_type": "code",
   "execution_count": 5,
   "metadata": {},
   "outputs": [],
   "source": [
    "df_encoded = pd.get_dummies(stripped_data, columns=['homeType'], drop_first=True)"
   ]
  },
  {
   "cell_type": "code",
   "execution_count": 6,
   "metadata": {},
   "outputs": [],
   "source": [
    "from sklearn.model_selection import train_test_split\n",
    "from sklearn.preprocessing import StandardScaler\n",
    "\n",
    "y = df_encoded['price']\n",
    "df_encoded = df_encoded[['bathrooms', 'bedrooms', 'livingArea', 'lotSize', 'taxAssessedValue' , 'yearBuilt'] + \n",
    "               [col for col in df_encoded.columns if 'homeType_' in col]]\n",
    "X = df_encoded[['bathrooms', 'bedrooms', 'livingArea', 'lotSize', 'yearBuilt', 'taxAssessedValue', 'homeType_MULTI_FAMILY', 'homeType_SINGLE_FAMILY']]\n",
    "\n",
    "\n",
    "X_train, X_test, y_train, y_test = train_test_split(X, y, test_size=0.2, random_state=42)"
   ]
  },
  {
   "cell_type": "code",
   "execution_count": 7,
   "metadata": {},
   "outputs": [],
   "source": [
    "scaler = StandardScaler()\n",
    "X_train_scaled = scaler.fit_transform(X_train)\n",
    "X_test_scaled = scaler.transform(X_test)"
   ]
  },
  {
   "cell_type": "code",
   "execution_count": null,
   "metadata": {},
   "outputs": [
    {
     "name": "stdout",
     "output_type": "stream",
     "text": [
      "Linear Regression: \tRMSE=99414.05, \tSAMPE=19.05%, \tMAE=53385.72, \tR²=0.82\n",
      "Decision Tree: \tRMSE=149253.75, \tSAMPE=24.98%, \tMAE=72189.61, \tR²=0.59\n",
      "Random Forest: \tRMSE=109838.28, \tSAMPE=18.31%, \tMAE=53501.82, \tR²=0.78\n",
      "XGBoost: \tRMSE=110676.39, \tSAMPE=18.58%, \tMAE=54856.06, \tR²=0.78\n"
     ]
    }
   ],
   "source": [
    "from sklearn.metrics import mean_squared_error, mean_absolute_error, r2_score\n",
    "import numpy as np\n",
    "\n",
    "# Function to evaluate model performance\n",
    "def evaluate_model(model, X_train, X_test, y_train, y_test):\n",
    "    model.fit(X_train, y_train)\n",
    "    y_pred = model.predict(X_test)\n",
    "    rmse = np.sqrt(mean_squared_error(y_test, y_pred))\n",
    "    smape = 100 * np.mean(2 * np.abs(y_pred - y_test) / (np.abs(y_test) + np.abs(y_pred)))\n",
    "    mae = mean_absolute_error(y_test, y_pred)\n",
    "    r2 = r2_score(y_test, y_pred)\n",
    "    return {'RMSE': rmse, 'SMAPE': smape ,'MAE': mae, 'R²': r2}\n",
    "\n",
    "# Evaluating multiple models\n",
    "from sklearn.linear_model import LinearRegression\n",
    "from sklearn.ensemble import RandomForestRegressor\n",
    "from sklearn.tree import DecisionTreeRegressor\n",
    "from xgboost import XGBRegressor\n",
    "\n",
    "models = {\n",
    "    'Linear Regres': LinearRegression(),\n",
    "    'Decision Tree': DecisionTreeRegressor(),\n",
    "    'Random Forest': RandomForestRegressor(),\n",
    "    'XGBoost': XGBRegressor()\n",
    "}\n",
    "\n",
    "# Evaluate each model and print the results\n",
    "for name, model in models.items():\n",
    "    metrics = evaluate_model(model, X_train, X_test, y_train, y_test)\n",
    "    print(f\"{name}: \\tRMSE={metrics['RMSE']:.2f}, \\tSAMPE={metrics['SMAPE']:.2f}%, \\tMAE={metrics['MAE']:.2f}, \\tR²={metrics['R²']:.2f}\")\n"
   ]
  }
 ],
 "metadata": {
  "kernelspec": {
   "display_name": "venv",
   "language": "python",
   "name": "python3"
  },
  "language_info": {
   "codemirror_mode": {
    "name": "ipython",
    "version": 3
   },
   "file_extension": ".py",
   "mimetype": "text/x-python",
   "name": "python",
   "nbconvert_exporter": "python",
   "pygments_lexer": "ipython3",
   "version": "3.12.4"
  }
 },
 "nbformat": 4,
 "nbformat_minor": 2
}
