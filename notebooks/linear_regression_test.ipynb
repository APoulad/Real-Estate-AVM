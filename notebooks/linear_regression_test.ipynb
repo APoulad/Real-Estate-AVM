{
 "cells": [
  {
   "cell_type": "code",
   "execution_count": null,
   "metadata": {},
   "outputs": [],
   "source": [
    "%pip install pandas\n",
    "import pandas as pd"
   ]
  },
  {
   "cell_type": "code",
   "execution_count": null,
   "metadata": {},
   "outputs": [],
   "source": [
    "prop_data = pd.read_csv('../data/all_sold_property_data.csv')"
   ]
  },
  {
   "cell_type": "code",
   "execution_count": 6,
   "metadata": {},
   "outputs": [
    {
     "data": {
      "text/plain": [
       "Index(['index', 'address', 'city', 'state', 'zipcode', 'county', 'countyFIPS',\n",
       "       'latitude', 'longitude', 'bathrooms', 'bathroomsFull', 'bathroomsHalf',\n",
       "       'bedrooms', 'homeStatus', 'homeType', 'livingArea', 'lotSize', 'price',\n",
       "       'currency', 'description', 'contingentListingType', 'datePostedString',\n",
       "       'datePriceChanged', 'dateSoldString', 'daysOnZillow', 'favoriteCount',\n",
       "       'isListedByOwner', 'isNonOwnerOccupied', 'isPreforeclosureAuction',\n",
       "       'isBankOwned', 'isForeclosure', 'isFSBA', 'isFSBO', 'isComingSoon',\n",
       "       'isForAuction', 'isNewHome', 'isOpenHouse', 'isPending',\n",
       "       'isZillowOwned', 'keystoneHomeStatus', 'lastSoldPrice',\n",
       "       'listingTypeDimension', 'listing_agent', 'livingAreaUnits',\n",
       "       'livingAreaUnitsShort', 'livingAreaValue', 'lotAreaUnits',\n",
       "       'lotAreaValue', 'taxAssessedValue', 'taxAssessedYear', 'taxHistory',\n",
       "       'appliances', 'architecturalStyle', 'heating', 'cooling', 'fencing',\n",
       "       'flooring', 'basement', 'yearBuilt', 'laundryFeatures', 'levels',\n",
       "       'stories', 'parkingFeatures', 'structureType', 'thumb_url',\n",
       "       'tourEligibility', 'tourPhotos', 'timeOnZillow', 'timeZone',\n",
       "       'virtualTourUrl', 'zipcodeSearchUrl', 'zestimate', 'agentEmail',\n",
       "       'agentLicenseNumber', 'agentName', 'agentPhoneNumber',\n",
       "       'attributionTitle', 'brokerName', 'brokerPhoneNumber', 'buyerAgentName',\n",
       "       'buyerBrokerageName'],\n",
       "      dtype='object')"
      ]
     },
     "execution_count": 6,
     "metadata": {},
     "output_type": "execute_result"
    }
   ],
   "source": [
    "prop_data.columns"
   ]
  },
  {
   "cell_type": "markdown",
   "metadata": {},
   "source": [
    "####Data Cleaning:\n",
    "retain only the most important attributes "
   ]
  },
  {
   "cell_type": "code",
   "execution_count": 27,
   "metadata": {},
   "outputs": [
    {
     "data": {
      "text/plain": [
       "63630"
      ]
     },
     "execution_count": 27,
     "metadata": {},
     "output_type": "execute_result"
    }
   ],
   "source": [
    "stripped_data = prop_data[['address', 'bathrooms', 'bedrooms', 'homeType', 'livingArea', 'lotSize', 'taxAssessedValue', 'yearBuilt', 'price']]\n",
    "stripped_data.set_index('address')\n",
    "stripped_data = stripped_data.dropna()\n",
    "stripped_data.size"
   ]
  },
  {
   "cell_type": "code",
   "execution_count": null,
   "metadata": {},
   "outputs": [],
   "source": [
    "%pip install -U scikit-learn"
   ]
  },
  {
   "cell_type": "markdown",
   "metadata": {},
   "source": [
    "####Split dataset into training and testing sets "
   ]
  },
  {
   "cell_type": "code",
   "execution_count": 37,
   "metadata": {},
   "outputs": [],
   "source": [
    "from sklearn.model_selection import train_test_split\n",
    "prop_val = stripped_data[stripped_data.columns[:-1]]\n",
    "prop_price = stripped_data[['address', 'price']]\n",
    "val_train, val_test, price_train, price_test = train_test_split(prop_val, prop_price, \n",
    "                                                                test_size=0.3, random_state=1)"
   ]
  }
 ],
 "metadata": {
  "kernelspec": {
   "display_name": "venv",
   "language": "python",
   "name": "python3"
  },
  "language_info": {
   "codemirror_mode": {
    "name": "ipython",
    "version": 3
   },
   "file_extension": ".py",
   "mimetype": "text/x-python",
   "name": "python",
   "nbconvert_exporter": "python",
   "pygments_lexer": "ipython3",
   "version": "3.12.4"
  }
 },
 "nbformat": 4,
 "nbformat_minor": 2
}
